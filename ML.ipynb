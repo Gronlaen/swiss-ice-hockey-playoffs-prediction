{
 "cells": [
  {
   "cell_type": "code",
   "execution_count": 7,
   "metadata": {
    "collapsed": true
   },
   "outputs": [],
   "source": [
    "import pandas as pd\n",
    "import numpy as np\n",
    "import glob\n",
    "import re\n",
    "from collections import Counter\n",
    "from sklearn.neural_network import MLPClassifier\n",
    "from sklearn.model_selection import train_test_split\n",
    "from sklearn.metrics import f1_score\n",
    "from sklearn.metrics import roc_auc_score\n",
    "from sklearn import tree\n",
    "import random"
   ]
  },
  {
   "cell_type": "code",
   "execution_count": 13,
   "metadata": {
    "collapsed": false
   },
   "outputs": [],
   "source": [
    "cc = pd.read_csv('Data/Ready_for_ML/lnab_playoff.csv')\n",
    "cc.set_index(['Series_ID'],inplace=True)"
   ]
  },
  {
   "cell_type": "code",
   "execution_count": 19,
   "metadata": {
    "collapsed": false
   },
   "outputs": [
    {
     "name": "stdout",
     "output_type": "stream",
     "text": [
      "0.633333333333\n",
      "[[ 0.35519888  0.64480112]\n",
      " [ 0.52272721  0.47727279]\n",
      " [ 0.53433555  0.46566445]\n",
      " [ 0.66474527  0.33525473]\n",
      " [ 0.64422419  0.35577581]\n",
      " [ 0.42988033  0.57011967]\n",
      " [ 0.44489354  0.55510646]\n",
      " [ 0.39124285  0.60875715]\n",
      " [ 0.37890086  0.62109914]\n",
      " [ 0.54956786  0.45043214]\n",
      " [ 0.4878221   0.5121779 ]]\n",
      "[1 0 0 0 0 1 1 1 1 0 1]\n",
      "[1 0 0 1 0 0 1 0 1 1 1]\n",
      "0.466666666667\n",
      "[0 1 0 1 1 0 0 0 1 0 0]\n",
      "[1 0 0 1 0 0 1 0 1 1 1]\n"
     ]
    }
   ],
   "source": [
    "y = cc['Winner'].values\n",
    "X = cc.drop(['Opponent 0', 'Winner', 'Year', 'Opponent 1'], axis=1)\n",
    "X = X.values\n",
    "\n",
    "X_train, X_test, y_train, y_test = train_test_split(X, y, test_size=0.1)\n",
    "clfn = MLPClassifier(solver='lbfgs', activation='logistic', hidden_layer_sizes=(50,), early_stopping=True, alpha=0.01)\n",
    "clfn.fit(X_train,y_train)\n",
    "\n",
    "clft = tree.DecisionTreeClassifier()\n",
    "clft.fit(X_train, y_train)\n",
    "\n",
    "\n",
    "\n",
    "print(roc_auc_score(y_test, clfn.predict(X_test)))\n",
    "print(clfn.predict_proba(X_test))\n",
    "print(clfn.predict(X_test))\n",
    "print(y_test)\n",
    "\n",
    "print(roc_auc_score(y_test, clft.predict(X_test)))\n",
    "print(clft.predict(X_test))\n",
    "print(y_test)"
   ]
  },
  {
   "cell_type": "code",
   "execution_count": null,
   "metadata": {
    "collapsed": true
   },
   "outputs": [],
   "source": []
  }
 ],
 "metadata": {
  "kernelspec": {
   "display_name": "Python [conda root]",
   "language": "python",
   "name": "conda-root-py"
  },
  "language_info": {
   "codemirror_mode": {
    "name": "ipython",
    "version": 3
   },
   "file_extension": ".py",
   "mimetype": "text/x-python",
   "name": "python",
   "nbconvert_exporter": "python",
   "pygments_lexer": "ipython3",
   "version": "3.5.2"
  }
 },
 "nbformat": 4,
 "nbformat_minor": 1
}
